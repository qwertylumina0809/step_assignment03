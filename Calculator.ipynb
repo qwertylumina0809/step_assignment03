{
 "cells": [
  {
   "cell_type": "code",
   "execution_count": 118,
   "metadata": {},
   "outputs": [],
   "source": [
    "#To split the input line into lines which are start with '+' or '-'.\n",
    "def split_by_symbol(line):\n",
    "  \n",
    "    my_line = '+' + line\n",
    "    index = 0\n",
    "    stop_symbol = []\n",
    "    lines = []\n",
    "    \n",
    "    while index < len(my_line):\n",
    "        if my_line[index] in {'+','-'}:\n",
    "            stop_symbol.append(index)\n",
    "        index += 1\n",
    "    \n",
    "    for i in range(len(stop_symbol)):\n",
    "        try:\n",
    "            lines.append(my_line[stop_symbol[i]:stop_symbol[i+1]])\n",
    "        except IndexError:\n",
    "            lines.append(my_line[stop_symbol[i]:len(my_line)])\n",
    "    \n",
    "    return lines"
   ]
  },
  {
   "cell_type": "code",
   "execution_count": 44,
   "metadata": {},
   "outputs": [],
   "source": [
    "#read from position index\n",
    "def readNumber(line, index):\n",
    "    number = 0\n",
    "    while index < len(line) and line[index].isdigit():\n",
    "        number = number * 10 + int(line[index])\n",
    "        index += 1\n",
    "    if index < len(line) and line[index] == '.':\n",
    "        index += 1\n",
    "        keta = 0.1\n",
    "    while index < len(line) and line[index].isdigit():\n",
    "        number += int(line[index]) * keta\n",
    "        keta /= 10\n",
    "        index += 1\n",
    "    token = {'type': 'NUMBER', 'number': number}\n",
    "    return token, index"
   ]
  },
  {
   "cell_type": "code",
   "execution_count": 27,
   "metadata": {},
   "outputs": [],
   "source": [
    "def readPlus(line, index):\n",
    "  token = {'type': 'PLUS'}\n",
    "  return token, index + 1\n",
    "\n",
    "def readMinus(line, index):\n",
    "  token = {'type': 'MINUS'}\n",
    "  return token, index + 1\n",
    "\n",
    "def readMul(line, index):\n",
    "  token = {'type': 'MUL'}\n",
    "  return token, index + 1\n",
    "\n",
    "def readDiv(line, index):\n",
    "  token = {'type': 'DIV'}\n",
    "  return token, index + 1\n"
   ]
  },
  {
   "cell_type": "code",
   "execution_count": 28,
   "metadata": {},
   "outputs": [],
   "source": [
    "def tokenize(line):\n",
    "  tokens = []\n",
    "  index = 0\n",
    "  while index < len(line):\n",
    "    if line[index].isdigit():\n",
    "      (token, index) = readNumber(line, index)\n",
    "    elif line[index] == '+':\n",
    "      (token, index) = readPlus(line, index)\n",
    "    elif line[index] == '-':\n",
    "      (token, index) = readMinus(line, index)\n",
    "    elif line[index] == '*':\n",
    "      (token, index) = readMul(line, index)\n",
    "    elif line[index] == '/':\n",
    "      (token, index) = readDiv(line, index)\n",
    "    else:\n",
    "      print('Invalid character found: ' + line[index])\n",
    "      exit(1)\n",
    "    tokens.append(token)\n",
    "  return tokens"
   ]
  },
  {
   "cell_type": "code",
   "execution_count": 135,
   "metadata": {},
   "outputs": [],
   "source": [
    "# calculate the 'x' and '/'\n",
    "def subevaluate(tokens):\n",
    "\n",
    "    length = len(tokens)\n",
    "    index = 2\n",
    "    if length == 2:\n",
    "        return tokens[1]['number']\n",
    "    else:\n",
    "        answer = tokens[index-1]['number']\n",
    "        while index<length:\n",
    "            if tokens[index]['type'] == 'MUL':\n",
    "                answer *= tokens[index+1]['number']\n",
    "            if tokens[index]['type'] == 'DIV':\n",
    "                answer /= tokens[index+1]['number']\n",
    "            index += 2\n",
    "    return answer    "
   ]
  },
  {
   "cell_type": "code",
   "execution_count": 335,
   "metadata": {},
   "outputs": [],
   "source": [
    "def evaluate(line):\n",
    "  \n",
    "    lines = split_by_symbol(line)\n",
    "\n",
    "    answer = 0\n",
    "    for l in lines:\n",
    "        token = tokenize(l)\n",
    "        if token[0]['type'] == 'PLUS':\n",
    "            answer += subevaluate(token)\n",
    "        elif token[0]['type'] == 'MINUS':\n",
    "            answer -= subevaluate(token)\n",
    "        else:\n",
    "            print('Invalid syntax')\n",
    "            exit(1)\n",
    "    \n",
    "    return answer"
   ]
  },
  {
   "cell_type": "code",
   "execution_count": 340,
   "metadata": {},
   "outputs": [],
   "source": [
    "# split the line by parentheses and return the index of the inner () \n",
    "def split_by_parentheses(lines):\n",
    "    \n",
    "    index = 0\n",
    "    length = len(lines)\n",
    "    count_left = 0\n",
    "    count_right = 0\n",
    "    left = []\n",
    "    right = []\n",
    "    parentheses = []\n",
    "    \n",
    "    while index < length:\n",
    "        if lines[index] == '(':\n",
    "            left.append(index)\n",
    "            count_left += 1\n",
    "        if lines[index] == ')':\n",
    "            right.append(index)\n",
    "            count_right += 1\n",
    "        index += 1\n",
    "    \n",
    "    c = 0\n",
    "    \n",
    "    if count_left != count_right:\n",
    "        print('Invalid syntax')\n",
    "        exit(1)\n",
    "    \n",
    "    if count_left == 0:\n",
    "        return False\n",
    "    \n",
    "    while c < count_left:\n",
    "        if left[c] < right[count_left//2-c]:\n",
    "            parentheses.append((left[c],right[count_left//2 - c]))\n",
    "        else:\n",
    "            parentheses.append((left[c],right[c]))\n",
    "        c += 1\n",
    "        \n",
    "    return parentheses[-1]"
   ]
  },
  {
   "cell_type": "code",
   "execution_count": 341,
   "metadata": {},
   "outputs": [],
   "source": [
    "def final_evaluate(lines):\n",
    "    current_lines = lines\n",
    "    while split_by_parentheses(current_lines):\n",
    "        location = split_by_parentheses(current_lines)\n",
    "        splited = current_lines[location[0]+1:location[1]]\n",
    "        result = evaluate(splited)\n",
    "        current_lines = current_lines[0:location[0]] + str(result) + current_lines[location[1]+1:]\n",
    "    \n",
    "    return evaluate(current_lines)"
   ]
  },
  {
   "cell_type": "code",
   "execution_count": 344,
   "metadata": {},
   "outputs": [
    {
     "name": "stdout",
     "output_type": "stream",
     "text": [
      "==== Test started! ====\n",
      "PASS! (1+2 = 3.000000)\n",
      "PASS! (1.0+2.1-3 = 0.100000)\n",
      "PASS! ((3.0+4*(2-1))/5 = 1.400000)\n",
      "PASS! ((0+0)/1*0 = 0.000000)\n",
      "PASS! ((0+0)/(1*0+1) = 0.000000)\n",
      "==== Test finished! ====\n",
      "\n",
      "> (((3.0+4*(2-1))/5\n",
      "Invalid syntax\n"
     ]
    },
    {
     "ename": "IndexError",
     "evalue": "list index out of range",
     "output_type": "error",
     "traceback": [
      "\u001b[0;31m---------------------------------------------------------------------------\u001b[0m",
      "\u001b[0;31mIndexError\u001b[0m                                Traceback (most recent call last)",
      "\u001b[0;32m<ipython-input-344-a3b8212f3c9f>\u001b[0m in \u001b[0;36m<module>\u001b[0;34m()\u001b[0m\n\u001b[1;32m     24\u001b[0m   \u001b[0mprint\u001b[0m\u001b[0;34m(\u001b[0m\u001b[0;34m'> '\u001b[0m\u001b[0;34m,\u001b[0m \u001b[0mend\u001b[0m\u001b[0;34m=\u001b[0m\u001b[0;34m\"\"\u001b[0m\u001b[0;34m)\u001b[0m\u001b[0;34m\u001b[0m\u001b[0;34m\u001b[0m\u001b[0m\n\u001b[1;32m     25\u001b[0m   \u001b[0mline\u001b[0m \u001b[0;34m=\u001b[0m \u001b[0minput\u001b[0m\u001b[0;34m(\u001b[0m\u001b[0;34m)\u001b[0m\u001b[0;34m\u001b[0m\u001b[0;34m\u001b[0m\u001b[0m\n\u001b[0;32m---> 26\u001b[0;31m   \u001b[0manswer\u001b[0m \u001b[0;34m=\u001b[0m \u001b[0mfinal_evaluate\u001b[0m\u001b[0;34m(\u001b[0m\u001b[0mline\u001b[0m\u001b[0;34m)\u001b[0m\u001b[0;34m\u001b[0m\u001b[0;34m\u001b[0m\u001b[0m\n\u001b[0m\u001b[1;32m     27\u001b[0m   \u001b[0mprint\u001b[0m\u001b[0;34m(\u001b[0m\u001b[0;34m\"answer = %f\\n\"\u001b[0m \u001b[0;34m%\u001b[0m \u001b[0manswer\u001b[0m\u001b[0;34m)\u001b[0m\u001b[0;34m\u001b[0m\u001b[0;34m\u001b[0m\u001b[0m\n",
      "\u001b[0;32m<ipython-input-341-7faac1f96f02>\u001b[0m in \u001b[0;36mfinal_evaluate\u001b[0;34m(lines)\u001b[0m\n\u001b[1;32m      1\u001b[0m \u001b[0;32mdef\u001b[0m \u001b[0mfinal_evaluate\u001b[0m\u001b[0;34m(\u001b[0m\u001b[0mlines\u001b[0m\u001b[0;34m)\u001b[0m\u001b[0;34m:\u001b[0m\u001b[0;34m\u001b[0m\u001b[0;34m\u001b[0m\u001b[0m\n\u001b[1;32m      2\u001b[0m     \u001b[0mcurrent_lines\u001b[0m \u001b[0;34m=\u001b[0m \u001b[0mlines\u001b[0m\u001b[0;34m\u001b[0m\u001b[0;34m\u001b[0m\u001b[0m\n\u001b[0;32m----> 3\u001b[0;31m     \u001b[0;32mwhile\u001b[0m \u001b[0msplit_by_parentheses\u001b[0m\u001b[0;34m(\u001b[0m\u001b[0mcurrent_lines\u001b[0m\u001b[0;34m)\u001b[0m\u001b[0;34m:\u001b[0m\u001b[0;34m\u001b[0m\u001b[0;34m\u001b[0m\u001b[0m\n\u001b[0m\u001b[1;32m      4\u001b[0m         \u001b[0mlocation\u001b[0m \u001b[0;34m=\u001b[0m \u001b[0msplit_by_parentheses\u001b[0m\u001b[0;34m(\u001b[0m\u001b[0mcurrent_lines\u001b[0m\u001b[0;34m)\u001b[0m\u001b[0;34m\u001b[0m\u001b[0;34m\u001b[0m\u001b[0m\n\u001b[1;32m      5\u001b[0m         \u001b[0msplited\u001b[0m \u001b[0;34m=\u001b[0m \u001b[0mcurrent_lines\u001b[0m\u001b[0;34m[\u001b[0m\u001b[0mlocation\u001b[0m\u001b[0;34m[\u001b[0m\u001b[0;36m0\u001b[0m\u001b[0;34m]\u001b[0m\u001b[0;34m+\u001b[0m\u001b[0;36m1\u001b[0m\u001b[0;34m:\u001b[0m\u001b[0mlocation\u001b[0m\u001b[0;34m[\u001b[0m\u001b[0;36m1\u001b[0m\u001b[0;34m]\u001b[0m\u001b[0;34m]\u001b[0m\u001b[0;34m\u001b[0m\u001b[0;34m\u001b[0m\u001b[0m\n",
      "\u001b[0;32m<ipython-input-340-994d2ad8cfea>\u001b[0m in \u001b[0;36msplit_by_parentheses\u001b[0;34m(lines)\u001b[0m\n\u001b[1;32m     28\u001b[0m \u001b[0;34m\u001b[0m\u001b[0m\n\u001b[1;32m     29\u001b[0m     \u001b[0;32mwhile\u001b[0m \u001b[0mc\u001b[0m \u001b[0;34m<\u001b[0m \u001b[0mcount_left\u001b[0m\u001b[0;34m:\u001b[0m\u001b[0;34m\u001b[0m\u001b[0;34m\u001b[0m\u001b[0m\n\u001b[0;32m---> 30\u001b[0;31m         \u001b[0;32mif\u001b[0m \u001b[0mleft\u001b[0m\u001b[0;34m[\u001b[0m\u001b[0mc\u001b[0m\u001b[0;34m]\u001b[0m \u001b[0;34m<\u001b[0m \u001b[0mright\u001b[0m\u001b[0;34m[\u001b[0m\u001b[0mcount_left\u001b[0m\u001b[0;34m//\u001b[0m\u001b[0;36m2\u001b[0m\u001b[0;34m-\u001b[0m\u001b[0mc\u001b[0m\u001b[0;34m]\u001b[0m\u001b[0;34m:\u001b[0m\u001b[0;34m\u001b[0m\u001b[0;34m\u001b[0m\u001b[0m\n\u001b[0m\u001b[1;32m     31\u001b[0m             \u001b[0mparentheses\u001b[0m\u001b[0;34m.\u001b[0m\u001b[0mappend\u001b[0m\u001b[0;34m(\u001b[0m\u001b[0;34m(\u001b[0m\u001b[0mleft\u001b[0m\u001b[0;34m[\u001b[0m\u001b[0mc\u001b[0m\u001b[0;34m]\u001b[0m\u001b[0;34m,\u001b[0m\u001b[0mright\u001b[0m\u001b[0;34m[\u001b[0m\u001b[0mcount_left\u001b[0m\u001b[0;34m//\u001b[0m\u001b[0;36m2\u001b[0m \u001b[0;34m-\u001b[0m \u001b[0mc\u001b[0m\u001b[0;34m]\u001b[0m\u001b[0;34m)\u001b[0m\u001b[0;34m)\u001b[0m\u001b[0;34m\u001b[0m\u001b[0;34m\u001b[0m\u001b[0m\n\u001b[1;32m     32\u001b[0m         \u001b[0;32melse\u001b[0m\u001b[0;34m:\u001b[0m\u001b[0;34m\u001b[0m\u001b[0;34m\u001b[0m\u001b[0m\n",
      "\u001b[0;31mIndexError\u001b[0m: list index out of range"
     ]
    }
   ],
   "source": [
    "def test(line):\n",
    "\n",
    "  actualAnswer = final_evaluate(line)\n",
    "  expectedAnswer = eval(line)\n",
    "  if abs(actualAnswer - expectedAnswer) < 1e-8:\n",
    "    print(\"PASS! (%s = %f)\" % (line, expectedAnswer))\n",
    "  else:\n",
    "    print(\"FAIL! (%s should be %f but was %f)\" % (line, expectedAnswer, actualAnswer))\n",
    "\n",
    "\n",
    "# Add more tests to this function :)\n",
    "def runTest():\n",
    "  print(\"==== Test started! ====\")\n",
    "  test(\"1+2\")\n",
    "  test(\"1.0+2.1-3\")\n",
    "  test(\"(3.0+4*(2-1))/5\")\n",
    "  test(\"(0+0)/1*0\")\n",
    "  test(\"(0+0)/(1*0+1)\")\n",
    "  print(\"==== Test finished! ====\\n\")\n",
    "\n",
    "runTest()\n",
    "\n",
    "while True:\n",
    "  print('> ', end=\"\")\n",
    "  line = input()\n",
    "  answer = final_evaluate(line)\n",
    "  print(\"answer = %f\\n\" % answer)"
   ]
  },
  {
   "cell_type": "code",
   "execution_count": null,
   "metadata": {},
   "outputs": [],
   "source": []
  }
 ],
 "metadata": {
  "kernelspec": {
   "display_name": "Python 3",
   "language": "python",
   "name": "python3"
  },
  "language_info": {
   "codemirror_mode": {
    "name": "ipython",
    "version": 3
   },
   "file_extension": ".py",
   "mimetype": "text/x-python",
   "name": "python",
   "nbconvert_exporter": "python",
   "pygments_lexer": "ipython3",
   "version": "3.6.9"
  }
 },
 "nbformat": 4,
 "nbformat_minor": 2
}
